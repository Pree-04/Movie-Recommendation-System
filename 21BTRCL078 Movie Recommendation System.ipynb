{
 "cells": [
  {
   "cell_type": "code",
   "execution_count": 1,
   "id": "a8781b61",
   "metadata": {},
   "outputs": [],
   "source": [
    "class CineMatch:\n",
    "    def __init__(self):\n",
    "        self.movies = []\n",
    "\n",
    "    def add_movie(self, title, genre, rating):\n",
    "        movie = {\n",
    "            'title': title,\n",
    "            'genre': genre,\n",
    "            'rating': rating\n",
    "        }\n",
    "        self.movies.append(movie)\n",
    "        print(f\"Movie '{title}' added successfully!\")\n",
    "\n",
    "    def delete_movie(self, title):\n",
    "        for movie in self.movies:\n",
    "            if movie['title'].lower() == title.lower():\n",
    "                self.movies.remove(movie)\n",
    "                print(f\"Movie '{title}' deleted successfully!\")\n",
    "                return\n",
    "        print(f\"Movie '{title}' not found!\")\n",
    "\n",
    "    def search_movies(self, search_term, search_type='title'):\n",
    "        results = []\n",
    "        for movie in self.movies:\n",
    "            if search_type == 'title' and search_term.lower() in movie['title'].lower():\n",
    "                results.append(movie)\n",
    "            elif search_type == 'genre' and search_term.lower() in movie['genre'].lower():\n",
    "                results.append(movie)\n",
    "        return results\n",
    "\n",
    "    def recommend_movies(self, top_n):\n",
    "        sorted_movies = sorted(self.movies, key=lambda x: x['rating'], reverse=True)\n",
    "        return sorted_movies[:top_n]"
   ]
  },
  {
   "cell_type": "code",
   "execution_count": 2,
   "id": "76bca980",
   "metadata": {},
   "outputs": [],
   "source": [
    "#Testing the CineMatch system\n",
    "cine_match = CineMatch()"
   ]
  },
  {
   "cell_type": "code",
   "execution_count": 9,
   "id": "d21e1864",
   "metadata": {},
   "outputs": [
    {
     "name": "stdout",
     "output_type": "stream",
     "text": [
      "Movie 'The Shawshank Redemption' added successfully!\n",
      "Movie 'The Godfather' added successfully!\n",
      "Movie 'The Dark Knight' added successfully!\n",
      "Movie '12 Angry Men' added successfully!\n",
      "Movie 'Schindler's List' added successfully!\n",
      "Movie 'Pulp Fiction' added successfully!\n"
     ]
    }
   ],
   "source": [
    "#Adding movies\n",
    "cine_match.add_movie(\"The Shawshank Redemption\", \"Drama\", 9.3)\n",
    "cine_match.add_movie(\"The Godfather\", \"Crime\", 9.2)\n",
    "cine_match.add_movie(\"The Dark Knight\", \"Action\", 9.0)\n",
    "cine_match.add_movie(\"12 Angry Men\", \"Drama\", 9.0)\n",
    "cine_match.add_movie(\"Schindler's List\", \"Biography\", 8.9)\n",
    "cine_match.add_movie(\"Pulp Fiction\", \"Crime\", 8.9)"
   ]
  },
  {
   "cell_type": "code",
   "execution_count": 11,
   "id": "c7f93c4a",
   "metadata": {},
   "outputs": [
    {
     "name": "stdout",
     "output_type": "stream",
     "text": [
      "Search results for 'The':\n",
      "{'title': 'The Shawshank Redemption', 'genre': 'Drama', 'rating': 9.3}\n",
      "{'title': 'The Dark Knight', 'genre': 'Action', 'rating': 9.0}\n",
      "{'title': 'The Shawshank Redemption', 'genre': 'Drama', 'rating': 9.3}\n",
      "{'title': 'The Godfather', 'genre': 'Crime', 'rating': 9.2}\n",
      "{'title': 'The Dark Knight', 'genre': 'Action', 'rating': 9.0}\n"
     ]
    }
   ],
   "source": [
    "#Searching movies by title\n",
    "print(\"Search results for 'The':\")\n",
    "for movie in cine_match.search_movies(\"The\", \"title\"):\n",
    "    print(movie)"
   ]
  },
  {
   "cell_type": "code",
   "execution_count": 12,
   "id": "140645ea",
   "metadata": {},
   "outputs": [
    {
     "name": "stdout",
     "output_type": "stream",
     "text": [
      "\n",
      "Search results for 'Drama':\n",
      "{'title': 'The Shawshank Redemption', 'genre': 'Drama', 'rating': 9.3}\n",
      "{'title': '12 Angry Men', 'genre': 'Drama', 'rating': 9.0}\n",
      "{'title': 'The Shawshank Redemption', 'genre': 'Drama', 'rating': 9.3}\n",
      "{'title': '12 Angry Men', 'genre': 'Drama', 'rating': 9.0}\n"
     ]
    }
   ],
   "source": [
    "#Searching movies by genre\n",
    "print(\"\\nSearch results for 'Drama':\")\n",
    "for movie in cine_match.search_movies(\"Drama\", \"genre\"):\n",
    "    print(movie)"
   ]
  },
  {
   "cell_type": "code",
   "execution_count": 13,
   "id": "a9f31f1d",
   "metadata": {},
   "outputs": [
    {
     "name": "stdout",
     "output_type": "stream",
     "text": [
      "\n",
      "Top 3 recommended movies:\n",
      "{'title': 'The Shawshank Redemption', 'genre': 'Drama', 'rating': 9.3}\n",
      "{'title': 'The Shawshank Redemption', 'genre': 'Drama', 'rating': 9.3}\n",
      "{'title': 'The Godfather', 'genre': 'Crime', 'rating': 9.2}\n"
     ]
    }
   ],
   "source": [
    "#Recommending top 3 movies\n",
    "print(\"\\nTop 3 recommended movies:\")\n",
    "for movie in cine_match.recommend_movies(3):\n",
    "    print(movie)"
   ]
  },
  {
   "cell_type": "code",
   "execution_count": 14,
   "id": "46242d0f",
   "metadata": {},
   "outputs": [
    {
     "name": "stdout",
     "output_type": "stream",
     "text": [
      "Movie 'The Godfather' deleted successfully!\n"
     ]
    }
   ],
   "source": [
    "#Deleting a movie\n",
    "cine_match.delete_movie(\"The Godfather\")"
   ]
  },
  {
   "cell_type": "code",
   "execution_count": 15,
   "id": "f8dbbe4e",
   "metadata": {},
   "outputs": [
    {
     "name": "stdout",
     "output_type": "stream",
     "text": [
      "\n",
      "Top 3 recommended movies after deletion:\n",
      "{'title': 'The Shawshank Redemption', 'genre': 'Drama', 'rating': 9.3}\n",
      "{'title': 'The Shawshank Redemption', 'genre': 'Drama', 'rating': 9.3}\n",
      "{'title': 'The Dark Knight', 'genre': 'Action', 'rating': 9.0}\n"
     ]
    }
   ],
   "source": [
    "#Recommending top 3 movies after deletion\n",
    "print(\"\\nTop 3 recommended movies after deletion:\")\n",
    "for movie in cine_match.recommend_movies(3):\n",
    "    print(movie)"
   ]
  },
  {
   "cell_type": "code",
   "execution_count": null,
   "id": "5b7dc2b3",
   "metadata": {},
   "outputs": [],
   "source": []
  },
  {
   "cell_type": "code",
   "execution_count": null,
   "id": "7657821e",
   "metadata": {},
   "outputs": [],
   "source": []
  },
  {
   "cell_type": "code",
   "execution_count": null,
   "id": "6bec2b14",
   "metadata": {},
   "outputs": [],
   "source": []
  },
  {
   "cell_type": "code",
   "execution_count": null,
   "id": "2168d0d8",
   "metadata": {},
   "outputs": [],
   "source": []
  }
 ],
 "metadata": {
  "kernelspec": {
   "display_name": "Python 3 (ipykernel)",
   "language": "python",
   "name": "python3"
  },
  "language_info": {
   "codemirror_mode": {
    "name": "ipython",
    "version": 3
   },
   "file_extension": ".py",
   "mimetype": "text/x-python",
   "name": "python",
   "nbconvert_exporter": "python",
   "pygments_lexer": "ipython3",
   "version": "3.9.13"
  }
 },
 "nbformat": 4,
 "nbformat_minor": 5
}
